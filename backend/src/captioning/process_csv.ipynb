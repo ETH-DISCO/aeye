{
 "cells": [
  {
   "cell_type": "code",
   "execution_count": null,
   "id": "initial_id",
   "metadata": {
    "collapsed": true
   },
   "outputs": [],
   "source": [
    "import csv\n",
    "import re"
   ]
  },
  {
   "cell_type": "code",
   "outputs": [],
   "source": [
    "# 1. Create a variable to store the path to the file\n",
    "PATH = \"/home/marco/image-viz/backend/src/captioning/captions/captions_wikiart.csv\"\n",
    "PATH_CLEANED = \"/home/marco/image-viz/backend/src/captioning/captions/captions_wikiart_cleaned.csv\"\n",
    "\n",
    "# 2. Open the file\n",
    "with open(PATH, \"r\") as file, open(PATH_CLEANED, \"w\") as file_cleaned:\n",
    "    # 3. Create a csv reader object and a csv writer object\n",
    "    reader = csv.reader(file)\n",
    "    writer = csv.writer(file_cleaned)\n",
    "    # 4. Write the header\n",
    "    writer.writerow(next(reader))\n",
    "    # 5. Loop over the rows\n",
    "    for row in reader:\n",
    "        # Split the string at \"ASSISTANT:\"\n",
    "        split_caption = row[1].split(\"ASSISTANT:\", 1)\n",
    "        if len(split_caption) > 1:\n",
    "            # Select the part after \"ASSISTANT:\"\n",
    "            assistant_caption = split_caption[1]\n",
    "            # Replace newlines with spaces\n",
    "            cleaned_caption = re.sub('\\n+', ' ', assistant_caption)\n",
    "            # Remove unnecessary spaces at the beginning and end\n",
    "            cleaned_caption = cleaned_caption.strip()\n",
    "            # Write the cleaned caption to the new file\n",
    "            writer.writerow([row[0], cleaned_caption])"
   ],
   "metadata": {
    "collapsed": false
   },
   "id": "da8362f899c09e1d",
   "execution_count": null
  },
  {
   "cell_type": "code",
   "outputs": [],
   "source": [
    "# 1. Create a variable to store the path to the file\n",
    "DATASET = \"wikiart\"\n",
    "PATH = f\"/home/marco/image-viz/backend/src/caption_model/captions/captions_{DATASET}.csv\"\n",
    "\n",
    "captions = {}\n",
    "# 2. Open the file\n",
    "with open(PATH, \"r\") as file:\n",
    "    # 3. Create a csv reader object\n",
    "    reader = csv.reader(file)\n",
    "    header = next(reader)\n",
    "    # 5. Loop over the rows\n",
    "    for row in reader:\n",
    "        # Get captions\n",
    "        captions[int(row[0])] = row[1]\n",
    "        \n",
    "captions[0]"
   ],
   "metadata": {
    "collapsed": false
   },
   "id": "2c68993138f08a02",
   "execution_count": null
  }
 ],
 "metadata": {
  "kernelspec": {
   "display_name": "Python 3",
   "language": "python",
   "name": "python3"
  },
  "language_info": {
   "codemirror_mode": {
    "name": "ipython",
    "version": 2
   },
   "file_extension": ".py",
   "mimetype": "text/x-python",
   "name": "python",
   "nbconvert_exporter": "python",
   "pygments_lexer": "ipython2",
   "version": "2.7.6"
  }
 },
 "nbformat": 4,
 "nbformat_minor": 5
}
